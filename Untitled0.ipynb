{
  "nbformat": 4,
  "nbformat_minor": 0,
  "metadata": {
    "colab": {
      "provenance": [],
      "authorship_tag": "ABX9TyORXV00jiZW+xyf4uuXhmEk",
      "include_colab_link": true
    },
    "kernelspec": {
      "name": "python3",
      "display_name": "Python 3"
    },
    "language_info": {
      "name": "python"
    }
  },
  "cells": [
    {
      "cell_type": "markdown",
      "metadata": {
        "id": "view-in-github",
        "colab_type": "text"
      },
      "source": [
        "<a href=\"https://colab.research.google.com/github/Gutierrezfila/progra-III-semi-2025/blob/main/Untitled0.ipynb\" target=\"_parent\"><img src=\"https://colab.research.google.com/assets/colab-badge.svg\" alt=\"Open In Colab\"/></a>"
      ]
    },
    {
      "cell_type": "code",
      "execution_count": 2,
      "metadata": {
        "colab": {
          "base_uri": "https://localhost:8080/"
        },
        "id": "okD0g5alcNpT",
        "outputId": "5a590d77-6fef-45c7-87ac-92c56b2c859c"
      },
      "outputs": [
        {
          "output_type": "stream",
          "name": "stdout",
          "text": [
            "hola mundo\n",
            "bienvenidos chicos a programacion computacional III\n"
          ]
        }
      ],
      "source": [
        "print(\"hola mundo\")\n",
        "print(\"bienvenidos chicos a programacion computacional III\")"
      ]
    },
    {
      "cell_type": "code",
      "source": [
        "nombre = \"filadelfo\"\n",
        "edad = 8\n",
        "print(nombre, edad)\n",
        "\n",
        "edad =\"cinco\"\n",
        "print(\"tu edad:\",edad)"
      ],
      "metadata": {
        "colab": {
          "base_uri": "https://localhost:8080/"
        },
        "id": "6Ks9Yl2JdWbv",
        "outputId": "fa361f26-1db4-40e7-f6f7-a2888ee07a8c"
      },
      "execution_count": 11,
      "outputs": [
        {
          "output_type": "stream",
          "name": "stdout",
          "text": [
            "filadelfo 8\n",
            "tu edad: cinco\n"
          ]
        }
      ]
    },
    {
      "cell_type": "code",
      "source": [
        "num1=5\n",
        "num2=8.9\n",
        "suma = num1 + num2\n",
        "print(\"la suma es:\",suma)"
      ],
      "metadata": {
        "colab": {
          "base_uri": "https://localhost:8080/"
        },
        "id": "EdvXaTtneULa",
        "outputId": "18318ab8-05b9-4002-bf96-932dc30b6beb"
      },
      "execution_count": 12,
      "outputs": [
        {
          "output_type": "stream",
          "name": "stdout",
          "text": [
            "la suma es: 13.9\n"
          ]
        }
      ]
    },
    {
      "cell_type": "code",
      "source": [
        "num1= float (input(\"num1:\"))\n",
        "num2= float (input(\"num2:\"))\n",
        "suma = num1 + num2\n",
        "print(\"la suma es:\",suma)"
      ],
      "metadata": {
        "colab": {
          "base_uri": "https://localhost:8080/"
        },
        "id": "5uxFJJEMfZ09",
        "outputId": "8ff14dc0-2c29-4d55-da7e-0dc898e7da2f"
      },
      "execution_count": 16,
      "outputs": [
        {
          "output_type": "stream",
          "name": "stdout",
          "text": [
            "num1:1\n",
            "num2:1\n",
            "la suma es: 2.0\n"
          ]
        }
      ]
    },
    {
      "cell_type": "code",
      "source": [
        "num1= float (input(\"num1:\"))\n",
        "num2= float (input(\"num2:\"))\n",
        "resta = num1 - num2\n",
        "print(\"la resta es:\",resta)"
      ],
      "metadata": {
        "colab": {
          "base_uri": "https://localhost:8080/"
        },
        "id": "wkF1JobPh8hA",
        "outputId": "c5b093b1-5614-4467-9a3a-b30789f10da4"
      },
      "execution_count": 20,
      "outputs": [
        {
          "output_type": "stream",
          "name": "stdout",
          "text": [
            "num1:5\n",
            "num2:8\n",
            "la resta es: -3.0\n"
          ]
        }
      ]
    }
  ]
}