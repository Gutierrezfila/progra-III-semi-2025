{
  "nbformat": 4,
  "nbformat_minor": 0,
  "metadata": {
    "colab": {
      "provenance": [],
      "authorship_tag": "ABX9TyOWlOCCcWOcFhpIf16IhcI5",
      "include_colab_link": true
    },
    "kernelspec": {
      "name": "python3",
      "display_name": "Python 3"
    },
    "language_info": {
      "name": "python"
    }
  },
  "cells": [
    {
      "cell_type": "markdown",
      "metadata": {
        "id": "view-in-github",
        "colab_type": "text"
      },
      "source": [
        "<a href=\"https://colab.research.google.com/github/Gutierrezfila/progra-III-semi-2025/blob/main/Untitled0.ipynb\" target=\"_parent\"><img src=\"https://colab.research.google.com/assets/colab-badge.svg\" alt=\"Open In Colab\"/></a>"
      ]
    },
    {
      "cell_type": "code",
      "execution_count": null,
      "metadata": {
        "colab": {
          "base_uri": "https://localhost:8080/"
        },
        "id": "okD0g5alcNpT",
        "outputId": "5a590d77-6fef-45c7-87ac-92c56b2c859c"
      },
      "outputs": [
        {
          "output_type": "stream",
          "name": "stdout",
          "text": [
            "hola mundo\n",
            "bienvenidos chicos a programacion computacional III\n"
          ]
        }
      ],
      "source": [
        "print(\"hola mundo\")\n",
        "print(\"bienvenidos chicos a programacion computacional III\")"
      ]
    },
    {
      "cell_type": "code",
      "source": [
        "nombre = \"filadelfo\"\n",
        "edad = 8\n",
        "print(nombre, edad)\n",
        "\n",
        "edad =\"cinco\"\n",
        "print(\"tu edad:\",edad)"
      ],
      "metadata": {
        "colab": {
          "base_uri": "https://localhost:8080/"
        },
        "id": "6Ks9Yl2JdWbv",
        "outputId": "fa361f26-1db4-40e7-f6f7-a2888ee07a8c"
      },
      "execution_count": null,
      "outputs": [
        {
          "output_type": "stream",
          "name": "stdout",
          "text": [
            "filadelfo 8\n",
            "tu edad: cinco\n"
          ]
        }
      ]
    },
    {
      "cell_type": "code",
      "source": [
        "num1=5\n",
        "num2=8.9\n",
        "suma = num1 + num2\n",
        "print(\"la suma es:\",suma)"
      ],
      "metadata": {
        "colab": {
          "base_uri": "https://localhost:8080/"
        },
        "id": "EdvXaTtneULa",
        "outputId": "18318ab8-05b9-4002-bf96-932dc30b6beb"
      },
      "execution_count": null,
      "outputs": [
        {
          "output_type": "stream",
          "name": "stdout",
          "text": [
            "la suma es: 13.9\n"
          ]
        }
      ]
    },
    {
      "cell_type": "code",
      "source": [
        "num1= float (input(\"num1:\"))\n",
        "num2= float (input(\"num2:\"))\n",
        "suma = num1 + num2\n",
        "print(\"la suma es:\",suma)"
      ],
      "metadata": {
        "colab": {
          "base_uri": "https://localhost:8080/"
        },
        "id": "5uxFJJEMfZ09",
        "outputId": "8ff14dc0-2c29-4d55-da7e-0dc898e7da2f"
      },
      "execution_count": null,
      "outputs": [
        {
          "output_type": "stream",
          "name": "stdout",
          "text": [
            "num1:1\n",
            "num2:1\n",
            "la suma es: 2.0\n"
          ]
        }
      ]
    },
    {
      "cell_type": "code",
      "source": [
        "num1= float (input(\"num1:\"))\n",
        "num2= float (input(\"num2:\"))\n",
        "resta = num1 - num2\n",
        "print(\"la resta es:\",resta)"
      ],
      "metadata": {
        "colab": {
          "base_uri": "https://localhost:8080/"
        },
        "id": "wkF1JobPh8hA",
        "outputId": "c5b093b1-5614-4467-9a3a-b30789f10da4"
      },
      "execution_count": null,
      "outputs": [
        {
          "output_type": "stream",
          "name": "stdout",
          "text": [
            "num1:5\n",
            "num2:8\n",
            "la resta es: -3.0\n"
          ]
        }
      ]
    },
    {
      "cell_type": "code",
      "source": [
        "def suma(a, b):\n",
        "    return a + b\n",
        "\n",
        "num1 = float(input(\"num1:\"))\n",
        "num2 = float(input(\"num2:\"))\n",
        "respuesta = suma(num1, num2)\n",
        "print(\"la suma es:\", respuesta)\n"
      ],
      "metadata": {
        "colab": {
          "base_uri": "https://localhost:8080/"
        },
        "id": "GmKzPmjPUxBb",
        "outputId": "51103835-a8b3-4313-edf4-c5d715009fdd"
      },
      "execution_count": null,
      "outputs": [
        {
          "output_type": "stream",
          "name": "stdout",
          "text": [
            "num1:5\n",
            "num2:5\n",
            "la suma es: 10.0\n"
          ]
        }
      ]
    },
    {
      "cell_type": "code",
      "source": [
        "def celciusFarenheit(c):\n",
        "    return c*1.8 + 32"
      ],
      "metadata": {
        "id": "NaCccO6-bB5x"
      },
      "execution_count": null,
      "outputs": []
    },
    {
      "cell_type": "code",
      "source": [
        "def celciusFarenheit(c):\n",
        "    return c*1.8 + 32\n",
        "\n",
        "c = int(input(\"Grados c: \"))\n",
        "f = celciusFarenheit(c)\n",
        "print(\"f: \", f)\n",
        "\n",
        "\n"
      ],
      "metadata": {
        "colab": {
          "base_uri": "https://localhost:8080/"
        },
        "id": "SEWmrfa7ZsKA",
        "outputId": "83f0e84d-f009-4017-92e8-bb0a563f9aa4"
      },
      "execution_count": null,
      "outputs": [
        {
          "output_type": "stream",
          "name": "stdout",
          "text": [
            "Grados c: 38\n",
            "f:  100.4\n"
          ]
        }
      ]
    },
    {
      "cell_type": "code",
      "source": [
        "def farenheitcelcius(f):\n",
        "   return (f-32) * 5/9\n",
        "\n",
        "f = int(input(\"f: \"))\n",
        "c = farenheitcelcius(f)\n",
        "print(\"c: \", c)\n",
        "\n"
      ],
      "metadata": {
        "colab": {
          "base_uri": "https://localhost:8080/"
        },
        "id": "UcHmukHQcy9L",
        "outputId": "a54594a0-5569-4c31-a963-90c2a9e4b6ea"
      },
      "execution_count": null,
      "outputs": [
        {
          "output_type": "stream",
          "name": "stdout",
          "text": [
            "f: 100\n",
            "c:  37.77777777777778\n"
          ]
        }
      ]
    },
    {
      "cell_type": "code",
      "source": [
        "\n",
        "celsius: float = 0.0\n",
        "\n",
        "celsius = float(input(\"Ingrese la temperatura en grados Celsius: \"))\n",
        "kelvin = celsius + 273.15\n",
        "print(f\"{celsius} grados Celsius son {kelvin} Kelvin.\")\n",
        "\n",
        "\n"
      ],
      "metadata": {
        "id": "gCK_6hDIh1-2"
      },
      "execution_count": null,
      "outputs": []
    },
    {
      "cell_type": "code",
      "source": [
        "from calculadora import calculadora\n",
        "\n",
        "calcular = calculadora()\n",
        "serie = input(\"serie eje: 1,5,4,9: \").split(\",\")\n",
        "print(serie)\n",
        "print(\"El mayor es:\",calcular.mayor(serie))\n",
        "\n",
        "\n",
        "\n"
      ],
      "metadata": {
        "colab": {
          "base_uri": "https://localhost:8080/",
          "height": 383
        },
        "id": "ZS4W5oCLjix3",
        "outputId": "507c6c06-9dd0-4aae-e24a-a5fcfbea42c5"
      },
      "execution_count": null,
      "outputs": [
        {
          "output_type": "error",
          "ename": "ModuleNotFoundError",
          "evalue": "No module named 'calculadora'",
          "traceback": [
            "\u001b[0;31m---------------------------------------------------------------------------\u001b[0m",
            "\u001b[0;31mModuleNotFoundError\u001b[0m                       Traceback (most recent call last)",
            "\u001b[0;32m/tmp/ipython-input-1952366644.py\u001b[0m in \u001b[0;36m<cell line: 0>\u001b[0;34m()\u001b[0m\n\u001b[0;32m----> 1\u001b[0;31m \u001b[0;32mfrom\u001b[0m \u001b[0mcalculadora\u001b[0m \u001b[0;32mimport\u001b[0m \u001b[0mcalculadora\u001b[0m\u001b[0;34m\u001b[0m\u001b[0;34m\u001b[0m\u001b[0m\n\u001b[0m\u001b[1;32m      2\u001b[0m \u001b[0;34m\u001b[0m\u001b[0m\n\u001b[1;32m      3\u001b[0m \u001b[0mcalcular\u001b[0m \u001b[0;34m=\u001b[0m \u001b[0mcalculadora\u001b[0m\u001b[0;34m(\u001b[0m\u001b[0;34m)\u001b[0m\u001b[0;34m\u001b[0m\u001b[0;34m\u001b[0m\u001b[0m\n\u001b[1;32m      4\u001b[0m \u001b[0mserie\u001b[0m \u001b[0;34m=\u001b[0m \u001b[0minput\u001b[0m\u001b[0;34m(\u001b[0m\u001b[0;34m\"serie eje: 1,5,4,9: \"\u001b[0m\u001b[0;34m)\u001b[0m\u001b[0;34m.\u001b[0m\u001b[0msplit\u001b[0m\u001b[0;34m(\u001b[0m\u001b[0;34m\",\"\u001b[0m\u001b[0;34m)\u001b[0m\u001b[0;34m\u001b[0m\u001b[0;34m\u001b[0m\u001b[0m\n\u001b[1;32m      5\u001b[0m \u001b[0mprint\u001b[0m\u001b[0;34m(\u001b[0m\u001b[0mserie\u001b[0m\u001b[0;34m)\u001b[0m\u001b[0;34m\u001b[0m\u001b[0;34m\u001b[0m\u001b[0m\n",
            "\u001b[0;31mModuleNotFoundError\u001b[0m: No module named 'calculadora'",
            "",
            "\u001b[0;31m---------------------------------------------------------------------------\u001b[0;32m\nNOTE: If your import is failing due to a missing package, you can\nmanually install dependencies using either !pip or !apt.\n\nTo view examples of installing some common dependencies, click the\n\"Open Examples\" button below.\n\u001b[0;31m---------------------------------------------------------------------------\u001b[0m\n"
          ],
          "errorDetails": {
            "actions": [
              {
                "action": "open_url",
                "actionText": "Open Examples",
                "url": "/notebooks/snippets/importing_libraries.ipynb"
              }
            ]
          }
        }
      ]
    },
    {
      "cell_type": "code",
      "source": [
        "class calculadora:\n",
        "    def mayor(self, serie):\n",
        "        # Convertir los elementos de la serie a números (int o float)\n",
        "        # Se asume que la serie contiene números válidos o cadenas que pueden convertirse a números.\n",
        "        try:\n",
        "            numeros = [float(x) for x in serie]\n",
        "        except ValueError:\n",
        "            return \"Error: La serie debe contener solo números válidos.\"\n",
        "\n",
        "        if not numeros:\n",
        "            return \"Error: La serie no puede estar vacía.\"\n",
        "\n",
        "        # Inicializar el mayor con el primer número de la serie\n",
        "        nmayor = numeros[0]\n",
        "\n",
        "        # Iterar sobre el resto de los números para encontrar el mayor\n",
        "        for num in numeros[1:]:\n",
        "            if num > nmayor:\n",
        "                nmayor = num\n",
        "        return nmayor\n",
        "\n",
        "\n",
        "bbbbb\n",
        "\n",
        "calcular = calculadora()\n",
        "serie = input(\"serie eje: 1,5,4,9: \").split(\",\")\n",
        "print(serie)\n",
        "print(\"El mayor es:\",calcular.mayor(serie))\n",
        "\n"
      ],
      "metadata": {
        "colab": {
          "base_uri": "https://localhost:8080/"
        },
        "id": "wKcZYl1UfbMP",
        "outputId": "a1bf4ae0-882f-4efa-885c-2dc8f157ae7b"
      },
      "execution_count": null,
      "outputs": [
        {
          "output_type": "stream",
          "name": "stdout",
          "text": [
            "serie eje: 1,5,4,9: 9\n",
            "['9']\n",
            "El mayor es: 9.0\n"
          ]
        }
      ]
    },
    {
      "cell_type": "code",
      "source": [
        "# Lista de personas\n",
        "personas = [\n",
        "    {'nombre': 'Ana', 'edad': 32},\n",
        "    {'nombre': 'Carlos', 'edad': 45},\n",
        "    {'nombre': 'Sofía', 'edad': 28},\n",
        "    {'nombre': 'David', 'edad': 51},\n",
        "    {'nombre': 'Elena', 'edad': 45}\n",
        "]\n",
        "\n",
        "# Usar la función max() con una función lambda como clave\n",
        "# La función lambda toma un diccionario (x) y devuelve el valor de la clave 'edad'\n",
        "persona_mayor = max(personas, key=lambda x: x['edad'])\n",
        "\n",
        "print(f\"La persona de mayor edad es: {persona_mayor['nombre']} con {persona_mayor['edad']} años.\")"
      ],
      "metadata": {
        "colab": {
          "base_uri": "https://localhost:8080/"
        },
        "id": "DfW4o78Ttw-a",
        "outputId": "e9de1b43-8fab-462c-f5ff-51d5b0e1aa15"
      },
      "execution_count": null,
      "outputs": [
        {
          "output_type": "stream",
          "name": "stdout",
          "text": [
            "La persona de mayor edad es: David con 51 años.\n"
          ]
        }
      ]
    },
    {
      "cell_type": "code",
      "source": [
        "\n",
        "def calcular_impuesto(monto):\n",
        "    tramos = [\n",
        "        (0.01, 500, 1.5, 0),\n",
        "        (500.01, 1000, 1.5, 3),\n",
        "        (1000.01, 2000, 3, 3),\n",
        "        (2000.01, 3000, 6, 3),\n",
        "        (3000.01, 6000, 9, 2),\n",
        "        (8000.01, 18000, 15, 2),\n",
        "        (18000.01, 30000, 39, 2),\n",
        "        (30000.01, 60000, 63, 1),\n",
        "        (60000.01, 100000, 93, 0.8),\n",
        "        (100000.01, 200000, 125, 0.7),\n",
        "        (200000.01, 300000, 195, 0.6),\n",
        "        (300000.01, 400000, 255, 0.45),\n",
        "        (400000.01, 500000, 300, 0.4),\n",
        "        (500000.01, 1000000, 340, 0.30),\n",
        "        (1000000.01, 99999999, 490, 0.18)\n",
        "    ]\n",
        "\n",
        "    impuesto = 0\n",
        "    for desde, hasta, precio, adicional in tramos:\n",
        "        if desde <= monto <= hasta:\n",
        "            if monto > desde:\n",
        "\n",
        "                impuesto = ((monto - (desde - 0.01)) / 1000) * adicional + precio\n",
        "            else:\n",
        "                impuesto = precio\n",
        "            break\n",
        "    else:\n",
        "\n",
        "        if monto < tramos[0][0]:\n",
        "            impuesto = 0\n",
        "        else:\n",
        "\n",
        "            impuesto = 0\n",
        "\n",
        "    return round(impuesto, 2)\n",
        "\n",
        "if __name__ == \"__main__\":\n",
        "    while True:\n",
        "        try:\n",
        "            monto_actividad = float(input(\"Ingrese el monto de la actividad económica: \"))\n",
        "            if monto_actividad <= 0:\n",
        "                print(\"El monto debe ser un número positivo.\")\n",
        "                continue\n",
        "            break\n",
        "        except ValueError:\n",
        "            print(\"Entrada inválida. Por favor, ingrese un número.\")\n",
        "\n",
        "    impuesto_calculado = calcular_impuesto(monto_actividad)\n",
        "    print(f\"El IMPUESTO A LAS ACTIVIDADES ECONÓMICAS para ${monto_actividad:.2f} es: ${impuesto_calculado:.2f}\")\n"
      ],
      "metadata": {
        "colab": {
          "base_uri": "https://localhost:8080/"
        },
        "id": "PyHHm3nqkcMV",
        "outputId": "b270cf08-d642-4a51-bb9f-0fae53d8864d"
      },
      "execution_count": 21,
      "outputs": [
        {
          "output_type": "stream",
          "name": "stdout",
          "text": [
            "Ingrese el monto de la actividad económica: 1875.79\n",
            "El IMPUESTO A LAS ACTIVIDADES ECONÓMICAS para $1875.79 es: $5.63\n"
          ]
        }
      ]
    },
    {
      "cell_type": "code",
      "source": [
        "\n",
        "def convertir_area(valor, unidad_origen, unidad_destino):\n",
        "    unidades = {\n",
        "        \"pie cuadrado\": 0.09290304,\n",
        "        \"vara cuadrada\": 0.6987,\n",
        "        \"yarda cuadrada\": 0.83612736,\n",
        "        \"metro cuadrado\": 1,\n",
        "        \"tarea\": 436.6875,\n",
        "        \"manzana\": 6987,\n",
        "        \"hectarea\": 10000\n",
        "    }\n",
        "\n",
        "    if unidad_origen.lower() not in unidades or unidad_destino.lower() not in unidades:\n",
        "        return \"Unidad de origen o destino no válida.\"\n",
        "\n",
        "\n",
        "    valor_en_metros_cuadrados = valor * unidades[unidad_origen.lower()]\n",
        "\n",
        "    valor_convertido = valor_en_metros_cuadrados / unidades[unidad_destino.lower()]\n",
        "\n",
        "    return valor_convertido\n",
        "\n",
        "if __name__ == \"__main__\":\n",
        "    print(\"Unidades disponibles: Pie Cuadrado, Vara Cuadrada, Yarda Cuadrada, Metro Cuadrado, Tarea, Manzana, Hectárea\")\n",
        "    while True:\n",
        "        try:\n",
        "            valor = float(input(\"Ingrese el valor a convertir: \"))\n",
        "            if valor <= 0:\n",
        "                print(\"El valor debe ser un número positivo.\")\n",
        "                continue\n",
        "            break\n",
        "        except ValueError:\n",
        "            print(\"Entrada inválida. Por favor, ingrese un número.\")\n",
        "\n",
        "    unidad_origen = input(\"Ingrese la unidad de origen: \")\n",
        "    unidad_destino = input(\"Ingrese la unidad de destino: \")\n",
        "\n",
        "    resultado = convertir_area(valor, unidad_origen, unidad_destino)\n",
        "\n",
        "    if isinstance(resultado, str):\n",
        "        print(resultado)\n",
        "    else:\n",
        "        print(f\"{valor} {unidad_origen} es igual a {resultado:.2f} {unidad_destino}\")\n"
      ],
      "metadata": {
        "colab": {
          "base_uri": "https://localhost:8080/"
        },
        "id": "zjx6Z1AblF3r",
        "outputId": "3adef176-686d-4427-f59e-a240cef17eca"
      },
      "execution_count": 25,
      "outputs": [
        {
          "output_type": "stream",
          "name": "stdout",
          "text": [
            "Unidades disponibles: Pie Cuadrado, Vara Cuadrada, Yarda Cuadrada, Metro Cuadrado, Tarea, Manzana, Hectárea\n",
            "Ingrese el valor a convertir: 1\n",
            "Ingrese la unidad de origen: hectarea\n",
            "Ingrese la unidad de destino: metro cuadrado\n",
            "1.0 hectarea es igual a 10000.00 metro cuadrado\n"
          ]
        }
      ]
    },
    {
      "cell_type": "code",
      "source": [
        "def cajero_automatico():\n",
        "\n",
        "    billetes = [20, 10, 5, 1]\n",
        "    monedas = [0.25]\n",
        "\n",
        "\n",
        "    cantidad = float(input(\"Ingrese la cantidad a retirar: \"))\n",
        "\n",
        "    print(f\"\\nDesglose de {cantidad:.2f}:\\n\")\n",
        "\n",
        "    for b in billetes:\n",
        "        if cantidad >= b:\n",
        "            num_billetes = int(cantidad // b)\n",
        "            cantidad -= num_billetes * b\n",
        "            print(f\"{num_billetes} billete(s) de {b}\")\n",
        "\n",
        "\n",
        "    for i in monedas:\n",
        "        if cantidad >= i:\n",
        "            num_monedas = int(round(cantidad // i))\n",
        "            cantidad -= num_monedas * i\n",
        "            print(f\"{num_monedas} moneda(s) de {i:.2f}\")\n",
        "\n",
        "\n",
        "    if round(cantidad, 2) > 0:\n",
        "        print(f\"Cantidad no entregada (centavos): {cantidad:.2f}\")\n",
        "\n",
        "\n",
        "cajero_automatico()"
      ],
      "metadata": {
        "colab": {
          "base_uri": "https://localhost:8080/"
        },
        "id": "-VWs-IhUm2Mb",
        "outputId": "393d517b-deef-4108-f913-70490c14b599"
      },
      "execution_count": 26,
      "outputs": [
        {
          "output_type": "stream",
          "name": "stdout",
          "text": [
            "Ingrese la cantidad a retirar: 199.99\n",
            "\n",
            "Desglose de 199.99:\n",
            "\n",
            "9 billete(s) de 20\n",
            "1 billete(s) de 10\n",
            "1 billete(s) de 5\n",
            "4 billete(s) de 1\n",
            "3 moneda(s) de 0.25\n",
            "Cantidad no entregada (centavos): 0.24\n"
          ]
        }
      ]
    }
  ]
}